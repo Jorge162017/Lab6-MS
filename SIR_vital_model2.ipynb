{
 "cells": [
  {
   "cell_type": "markdown",
   "id": "d317bd53",
   "metadata": {},
   "source": [
    "# CC3039 — Laboratorio 6 · **Práctica Parte 2**  \n",
    "**Jacobiano y Autovalores en el modelo SIR con dinámica vital**\n",
    "\n",
    "> Este notebook calcula el Jacobiano simbólico del sistema, evalúa autovalores en el **ELE (S=N, I=0)** y en el **equilibrio endémico** (numérico), e imprime los resultados solicitados en el enunciado.\n"
   ]
  },
  {
   "cell_type": "markdown",
   "id": "aa3c5fc0",
   "metadata": {},
   "source": [
    "\n",
    "## 1) Modelo y parámetros\n",
    "\n",
    "Con \\(\\beta\\) **normalizada por** \\(N\\), las ecuaciones en el plano \\((S, I)\\) son:\n",
    "\\[\n",
    "\\dot S = \\mu N - \\beta S I - \\mu S,\\quad\n",
    "\\dot I = \\beta S I - (\\gamma + \\mu) I.\n",
    "\\]\n",
    "\n",
    "Parámetros de la **Parte 1** (R₀ > 1):\n"
   ]
  },
  {
   "cell_type": "code",
   "execution_count": 1,
   "id": "755e972d",
   "metadata": {},
   "outputs": [
    {
     "name": "stdout",
     "output_type": "stream",
     "text": [
      "N = 1000, beta = 0.0005, gamma = 0.1, mu = 0.02\n",
      "R0 = 4.166667  ->  > 1\n"
     ]
    }
   ],
   "source": [
    "\n",
    "N = 1000\n",
    "beta = 0.0005 \n",
    "gamma = 0.1\n",
    "mu = 0.02\n",
    "\n",
    "R0 = (beta * N) / (gamma + mu)\n",
    "print(f\"N = {N}, beta = {beta}, gamma = {gamma}, mu = {mu}\")\n",
    "print(f\"R0 = {R0:.6f}  ->  {'> 1' if R0>1 else '<= 1'}\")\n"
   ]
  },
  {
   "cell_type": "markdown",
   "id": "165ab35f",
   "metadata": {},
   "source": [
    "\n",
    "## 2) Jacobiano simbólico con `sympy`\n",
    "\n"
   ]
  },
  {
   "cell_type": "code",
   "execution_count": 2,
   "id": "0d4f43e3",
   "metadata": {},
   "outputs": [
    {
     "name": "stdout",
     "output_type": "stream",
     "text": [
      "Jacobiano simbólico:\n",
      "⎡-I⋅β - μ     -S⋅β    ⎤\n",
      "⎢                     ⎥\n",
      "⎣  I⋅β     S⋅β - γ - μ⎦\n"
     ]
    },
    {
     "data": {
      "text/latex": [
       "$\\displaystyle \\left[\\begin{matrix}- I \\beta - \\mu & - S \\beta\\\\I \\beta & S \\beta - \\gamma - \\mu\\end{matrix}\\right]$"
      ],
      "text/plain": [
       "Matrix([\n",
       "[-I*beta - mu,             -S*beta],\n",
       "[      I*beta, S*beta - gamma - mu]])"
      ]
     },
     "execution_count": 2,
     "metadata": {},
     "output_type": "execute_result"
    }
   ],
   "source": [
    "import sympy as sp\n",
    "\n",
    "# Variables\n",
    "S, I = sp.symbols('S I', real=True)\n",
    "beta_s, gamma_s, mu_s, N_s = sp.symbols('beta gamma mu N', positive=True, real=True)\n",
    "\n",
    "# Ecuaciones\n",
    "dS = mu_s*N_s - beta_s*S*I - mu_s*S\n",
    "dI = beta_s*S*I - (gamma_s + mu_s)*I\n",
    "\n",
    "# Jacobiano simbólico\n",
    "F = sp.Matrix([dS, dI])\n",
    "vars_vec = sp.Matrix([S, I])\n",
    "J = F.jacobian(vars_vec)\n",
    "\n",
    "print(\"Jacobiano simbólico:\")\n",
    "sp.pprint(J)\n",
    "J\n"
   ]
  },
  {
   "cell_type": "markdown",
   "id": "f4f989d4",
   "metadata": {},
   "source": [
    "\n",
    "## 3) Autovalores simbólicos en el **ELE** \\((S^*, I^*) = (N, 0)\\)\n"
   ]
  },
  {
   "cell_type": "code",
   "execution_count": 3,
   "id": "9d435e7f",
   "metadata": {},
   "outputs": [
    {
     "name": "stdout",
     "output_type": "stream",
     "text": [
      "Jacobiano simbólico en ELE (S=N, I=0):\n",
      "⎡-μ     -N⋅β    ⎤\n",
      "⎢               ⎥\n",
      "⎣0   N⋅β - γ - μ⎦\n",
      "\n",
      "Autovalores simbólicos del ELE:\n",
      "λ = N⋅β - γ - μ\n",
      "λ = -μ\n"
     ]
    }
   ],
   "source": [
    "# Jacobiano en ELE\n",
    "J_ELE = J.subs({S: N_s, I: 0})\n",
    "eigs_ELE = J_ELE.eigenvals()\n",
    "\n",
    "print(\"Jacobiano simbólico en ELE (S=N, I=0):\")\n",
    "sp.pprint(J_ELE)\n",
    "print(\"\\nAutovalores simbólicos del ELE:\")\n",
    "for val, mult in eigs_ELE.items():\n",
    "    sp.pprint(sp.Eq(sp.Symbol('lambda'), val))\n"
   ]
  },
  {
   "cell_type": "code",
   "execution_count": 4,
   "id": "caa11506",
   "metadata": {},
   "outputs": [
    {
     "name": "stdout",
     "output_type": "stream",
     "text": [
      "Verificación simbólica de λ2 - (γ+μ)(R0 - 1) == 0  -> True\n"
     ]
    }
   ],
   "source": [
    "# Verificación simbólica de lambda2\n",
    "R0_sym = (beta_s*N_s)/(gamma_s + mu_s)\n",
    "lambda2 = beta_s*N_s - (gamma_s + mu_s)\n",
    "check = sp.simplify(lambda2 - (gamma_s + mu_s)*(R0_sym - 1))\n",
    "print(\"Verificación simbólica de λ2 - (γ+μ)(R0 - 1) == 0  ->\", sp.simplify(check) == 0)\n"
   ]
  },
  {
   "cell_type": "markdown",
   "id": "aac0d0d8",
   "metadata": {},
   "source": [
    "\n",
    "## 4) Equilibrio endémico numérico y Jacobiano numérico\n",
    "\n"
   ]
  },
  {
   "cell_type": "code",
   "execution_count": 5,
   "id": "22358a6a",
   "metadata": {},
   "outputs": [
    {
     "name": "stdout",
     "output_type": "stream",
     "text": [
      "S* = 240.000000, I* = 126.666667, R* = 633.333333\n",
      "\n",
      "Jacobiano numérico en el endémico:\n",
      "⎡-0.0833333333333333          -0.12        ⎤\n",
      "⎢                                          ⎥\n",
      "⎣0.0633333333333333   -1.04083408558608e-17⎦\n"
     ]
    },
    {
     "data": {
      "text/latex": [
       "$\\displaystyle \\left[\\begin{matrix}-0.0833333333333333 & -0.12\\\\0.0633333333333333 & -1.04083408558608 \\cdot 10^{-17}\\end{matrix}\\right]$"
      ],
      "text/plain": [
       "Matrix([\n",
       "[-0.0833333333333333,                 -0.12],\n",
       "[ 0.0633333333333333, -1.04083408558608e-17]])"
      ]
     },
     "execution_count": 5,
     "metadata": {},
     "output_type": "execute_result"
    }
   ],
   "source": [
    "# Equilibrio endémico\n",
    "S_star = (gamma + mu)/beta\n",
    "I_star = mu*(N - S_star)/(beta*S_star)\n",
    "R_star = N - S_star - I_star\n",
    "\n",
    "print(f\"S* = {S_star:.6f}, I* = {I_star:.6f}, R* = {R_star:.6f}\")\n",
    "\n",
    "# Jacobiano numérico en el endémico\n",
    "J_num = J.subs({\n",
    "    beta_s: beta, gamma_s: gamma, mu_s: mu, N_s: N, S: S_star, I: I_star\n",
    "})\n",
    "print(\"\\nJacobiano numérico en el endémico:\")\n",
    "sp.pprint(J_num)\n",
    "J_num\n"
   ]
  },
  {
   "cell_type": "markdown",
   "id": "81b03b1e",
   "metadata": {},
   "source": [
    "\n",
    "## 5) Autovalores numéricos del Jacobiano en el equilibrio endémico\n"
   ]
  },
  {
   "cell_type": "code",
   "execution_count": 6,
   "id": "f55cb794",
   "metadata": {},
   "outputs": [
    {
     "name": "stdout",
     "output_type": "stream",
     "text": [
      "Autovalores numéricos (endémico):\n",
      "[-0.04166667+0.07657603j -0.04166667-0.07657603j]\n",
      "\n",
      "Partes reales:  [-0.04166667 -0.04166667]\n"
     ]
    }
   ],
   "source": [
    "import numpy as np\n",
    "\n",
    "J_np = np.array(J_num.tolist(), dtype=np.float64)\n",
    "eigvals_end = np.linalg.eigvals(J_np)\n",
    "print(\"Autovalores numéricos (endémico):\")\n",
    "print(eigvals_end)\n",
    "\n",
    "print(\"\\nPartes reales: \", np.real(eigvals_end))\n"
   ]
  },
  {
   "cell_type": "markdown",
   "id": "551be2b3",
   "metadata": {},
   "source": [
    "## 6) Análisis\n",
    "\n",
    "1) Punto libre de enfermedad (ELE: S=N, I=0)  \n",
    "- Con nuestros parámetros, R0 ≈ 4.1667 (>1) y el segundo autovalor ≈ 0.38 (positivo).  \n",
    "- Interpretación: si aparecen pocos infectados, la infección crece y el sistema se aleja de (N,0).  \n",
    "- Conclusión: ELE inestable.\n",
    "\n",
    "2) Punto endémico (existe porque R0>1)  \n",
    "- Valores: S* ≈ 240.0, I* ≈ 126.67, R* ≈ 633.33.  \n",
    "- Autovalores: ≈ −0.0417 ± 0.0768i (parte real negativa).  \n",
    "- Interpretación: el sistema regresa al equilibrio con oscilaciones que se apagan; periodo ≈ 82 unidades de tiempo.  \n",
    "- Conclusión: equilibrio endémico estable (tipo espiral).\n",
    "\n",
    "3) Efecto de la tasa μ  \n",
    "- Si μ sube: el crecimiento inicial alrededor del ELE es más lento y el retorno al endémico es más rápido (más amortiguamiento).  \n",
    "- Si μ baja: ocurre lo contrario.\n",
    "\n",
    "4) Conexión con la Parte 1  \n",
    "- Lo visto en las simulaciones se explica así: el sistema sale del ELE (inestable) y termina acercándose al punto endémico con pequeñas oscilaciones hasta estabilizarse.\n"
   ]
  }
 ],
 "metadata": {
  "kernelspec": {
   "display_name": "Python 3",
   "language": "python",
   "name": "python3"
  },
  "language_info": {
   "codemirror_mode": {
    "name": "ipython",
    "version": 3
   },
   "file_extension": ".py",
   "mimetype": "text/x-python",
   "name": "python",
   "nbconvert_exporter": "python",
   "pygments_lexer": "ipython3",
   "version": "3.10.0"
  }
 },
 "nbformat": 4,
 "nbformat_minor": 5
}
